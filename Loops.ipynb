{
 "cells": [
  {
   "cell_type": "markdown",
   "metadata": {},
   "source": [
    "# (1) Counter Loop Pattern"
   ]
  },
  {
   "cell_type": "code",
   "execution_count": null,
   "metadata": {},
   "outputs": [],
   "source": [
    "'''\n",
    "   Write a function checkSorted() that:\n",
    "\n",
    "(1) takes a list of comparable items as input\n",
    "(2) returns True if the sequence is decreasing, False otherwise \n",
    "\n",
    "\n",
    ">>> checkSorted([10, 8, 4, 2, 1]) \n",
    "True\n",
    "  \n",
    ">>> checkSorted([10, 8, 2, 4, 1]) \n",
    "False\n",
    "\n",
    "'''"
   ]
  },
  {
   "cell_type": "code",
   "execution_count": 1,
   "metadata": {},
   "outputs": [],
   "source": [
    "def checkSorted(lst):\n",
    "    for i in range(len(lst)-1):\n",
    "        if lst[i] <= lst[i+1]:\n",
    "            return False\n",
    "    return True"
   ]
  },
  {
   "cell_type": "code",
   "execution_count": 2,
   "metadata": {},
   "outputs": [
    {
     "data": {
      "text/plain": [
       "True"
      ]
     },
     "execution_count": 2,
     "metadata": {},
     "output_type": "execute_result"
    }
   ],
   "source": [
    "checkSorted([10, 8, 4, 2, 1]) "
   ]
  },
  {
   "cell_type": "code",
   "execution_count": 3,
   "metadata": {},
   "outputs": [
    {
     "data": {
      "text/plain": [
       "False"
      ]
     },
     "execution_count": 3,
     "metadata": {},
     "output_type": "execute_result"
    }
   ],
   "source": [
    "checkSorted([10, 8, 2, 4, 1]) "
   ]
  },
  {
   "cell_type": "markdown",
   "metadata": {},
   "source": [
    "# (2) Accumulator Loop Pattern"
   ]
  },
  {
   "cell_type": "code",
   "execution_count": null,
   "metadata": {},
   "outputs": [],
   "source": [
    "'''\n",
    "    Write a function sum() that:\n",
    "\n",
    "(1) takes a starting number and a ending number as two inputs\n",
    "(2) returns a sum of numbers between the starting and ending numbers\n",
    "\n",
    "\n",
    ">>> sum(1, 10)\n",
    "55\n",
    "\n",
    ">>> sum(1, 100)\n",
    "5050\n",
    "\n",
    "'''\n"
   ]
  },
  {
   "cell_type": "code",
   "execution_count": 4,
   "metadata": {},
   "outputs": [],
   "source": [
    "def sum(s, e):\n",
    "    res = 0\n",
    "    for n in range(s, e+1):\n",
    "        res += n\n",
    "    return res"
   ]
  },
  {
   "cell_type": "code",
   "execution_count": 5,
   "metadata": {},
   "outputs": [
    {
     "data": {
      "text/plain": [
       "55"
      ]
     },
     "execution_count": 5,
     "metadata": {},
     "output_type": "execute_result"
    }
   ],
   "source": [
    "sum(1, 10)"
   ]
  },
  {
   "cell_type": "code",
   "execution_count": 6,
   "metadata": {},
   "outputs": [
    {
     "data": {
      "text/plain": [
       "5050"
      ]
     },
     "execution_count": 6,
     "metadata": {},
     "output_type": "execute_result"
    }
   ],
   "source": [
    "sum(1, 100)"
   ]
  },
  {
   "cell_type": "markdown",
   "metadata": {},
   "source": [
    "# (3) Nested for loop"
   ]
  },
  {
   "cell_type": "code",
   "execution_count": null,
   "metadata": {},
   "outputs": [],
   "source": [
    "'''\n",
    "    Write a function inAmongst() that takes:\n",
    "    three lists of numbers as inputs\n",
    "    and returns True if there is an item that is common to three lists and False otherwise\n",
    "\n",
    ">>> inAmongst([3, 2, 5, 4, 7], [9, 0, 1, 3],[3, 5, 4, 7])\n",
    "True\n",
    ">>> inAmongst([2, 5, 4, 7], [9, 0, 1, 3], [6, 8, 10, 11])\n",
    "False\n",
    "\n",
    "'''"
   ]
  },
  {
   "cell_type": "code",
   "execution_count": 7,
   "metadata": {},
   "outputs": [],
   "source": [
    "def inAmongst(lst1, lst2, lst3):\n",
    "    for l in lst1:\n",
    "        for m in lst2:\n",
    "            for n in lst3:\n",
    "                if l == m == n:\n",
    "                    return True\n",
    "    return False"
   ]
  },
  {
   "cell_type": "code",
   "execution_count": 8,
   "metadata": {},
   "outputs": [
    {
     "data": {
      "text/plain": [
       "True"
      ]
     },
     "execution_count": 8,
     "metadata": {},
     "output_type": "execute_result"
    }
   ],
   "source": [
    "inAmongst([3, 2, 5, 4, 7], [9, 0, 1, 3],[3, 5, 4, 7])"
   ]
  },
  {
   "cell_type": "code",
   "execution_count": 9,
   "metadata": {},
   "outputs": [
    {
     "data": {
      "text/plain": [
       "False"
      ]
     },
     "execution_count": 9,
     "metadata": {},
     "output_type": "execute_result"
    }
   ],
   "source": [
    "inAmongst([2, 5, 4, 7], [9, 0, 1, 3], [6, 8, 10, 11])"
   ]
  },
  {
   "cell_type": "code",
   "execution_count": null,
   "metadata": {},
   "outputs": [],
   "source": [
    "'''\n",
    "Q4. Write a function pairSum() that takes:\n",
    "    two lists of numbers and\n",
    "    a target value as inputs\n",
    "    and prints the indexes of all pairs of values in the first and second lists that add up to the target value \n",
    "\n",
    ">>> pairSum([2, 5, 4, 7], [9, 0, 6, 7], 11)\n",
    "0 0\n",
    "1 2\n",
    "2 3\n",
    "\n",
    "'''"
   ]
  },
  {
   "cell_type": "code",
   "execution_count": 10,
   "metadata": {},
   "outputs": [],
   "source": [
    "def pairSum(lst1, lst2, t):\n",
    "    for m in lst1:\n",
    "        for n in lst2:\n",
    "            if m + n == t:\n",
    "                print(lst1.index(m), lst2.index(n))"
   ]
  },
  {
   "cell_type": "code",
   "execution_count": 11,
   "metadata": {},
   "outputs": [
    {
     "name": "stdout",
     "output_type": "stream",
     "text": [
      "0 0\n",
      "1 2\n",
      "2 3\n"
     ]
    }
   ],
   "source": [
    "pairSum([2, 5, 4, 7], [9, 0, 6, 7], 11)"
   ]
  },
  {
   "cell_type": "code",
   "execution_count": null,
   "metadata": {},
   "outputs": [],
   "source": [
    "'''\n",
    "    Write a fuction squre_graph() that takes:\n",
    "    an integer number that represents a number of rows\n",
    "    and prints a sequence of numbers on each row, which ranges from zero to the squre of row line\n",
    "    \n",
    ">>> squre_graph(5)\n",
    "0 1\n",
    "0 1 2 3 4\n",
    "0 1 2 3 4 5 6 7 8 9\n",
    "0 1 2 3 4 5 6 7 8 9 10 11 12 13 14 15 16\n",
    "0 1 2 3 4 5 6 7 8 9 10 11 12 13 14 15 16 17 18 19 20 21 22 23 24 25\n",
    "\n",
    "'''"
   ]
  },
  {
   "cell_type": "code",
   "execution_count": 12,
   "metadata": {},
   "outputs": [],
   "source": [
    "def squre_graph(n):\n",
    "    for m in range(n):\n",
    "        for n in range((m+1)**2+1):\n",
    "            print(n, end = ' ')\n",
    "        print()"
   ]
  },
  {
   "cell_type": "code",
   "execution_count": 13,
   "metadata": {},
   "outputs": [
    {
     "name": "stdout",
     "output_type": "stream",
     "text": [
      "0 1 \n",
      "0 1 2 3 4 \n",
      "0 1 2 3 4 5 6 7 8 9 \n",
      "0 1 2 3 4 5 6 7 8 9 10 11 12 13 14 15 16 \n",
      "0 1 2 3 4 5 6 7 8 9 10 11 12 13 14 15 16 17 18 19 20 21 22 23 24 25 \n"
     ]
    }
   ],
   "source": [
    "squre_graph(5)"
   ]
  },
  {
   "cell_type": "markdown",
   "metadata": {},
   "source": [
    "# (4) while loop"
   ]
  },
  {
   "cell_type": "code",
   "execution_count": null,
   "metadata": {},
   "outputs": [],
   "source": [
    "'''\n",
    "    Write a function n_halved() that takes:\n",
    "    a positive integer n as an input\n",
    "    and returns answers of the following question: \n",
    "    How many times can the number n be halved (using integer division) before reaching 1?\n",
    "    \n",
    ">>> n_halved(4)\n",
    "2\n",
    ">>> n_halved(11)\n",
    "3\n",
    ">>> n_halved(25)\n",
    "4\n",
    "\n",
    "'''"
   ]
  },
  {
   "cell_type": "code",
   "execution_count": 1,
   "metadata": {},
   "outputs": [],
   "source": [
    "def n_halved(n):\n",
    "    res = 0\n",
    "    while n > 1:\n",
    "        n = n//2\n",
    "        res += 1\n",
    "    return res"
   ]
  },
  {
   "cell_type": "code",
   "execution_count": 2,
   "metadata": {},
   "outputs": [
    {
     "data": {
      "text/plain": [
       "2"
      ]
     },
     "execution_count": 2,
     "metadata": {},
     "output_type": "execute_result"
    }
   ],
   "source": [
    "n_halved(4)"
   ]
  },
  {
   "cell_type": "code",
   "execution_count": 3,
   "metadata": {},
   "outputs": [
    {
     "data": {
      "text/plain": [
       "3"
      ]
     },
     "execution_count": 3,
     "metadata": {},
     "output_type": "execute_result"
    }
   ],
   "source": [
    "n_halved(11)"
   ]
  },
  {
   "cell_type": "code",
   "execution_count": 4,
   "metadata": {},
   "outputs": [
    {
     "data": {
      "text/plain": [
       "4"
      ]
     },
     "execution_count": 4,
     "metadata": {},
     "output_type": "execute_result"
    }
   ],
   "source": [
    "n_halved(25)"
   ]
  },
  {
   "cell_type": "code",
   "execution_count": null,
   "metadata": {},
   "outputs": [],
   "source": [
    "'''\n",
    "    Write a function fibonnaci() that takes:\n",
    "    a bound as an input \n",
    "    and returns the Fibnonaci sequence that its biggest Fibonaci number is smaller than the bound\n",
    "\n",
    ">>> fibonnaci(12)\n",
    "1 1 2 3 5 8\n",
    "\n",
    ">>> fibonnaci(25)\n",
    "1 1 2 3 5 8 13 21\n",
    "\n",
    "\n",
    "'''"
   ]
  },
  {
   "cell_type": "code",
   "execution_count": 18,
   "metadata": {},
   "outputs": [],
   "source": [
    "def fibonnaci(n):\n",
    "    a = 1\n",
    "    b = 1\n",
    "    c = a + b\n",
    "    print(a, b, end = ' ')\n",
    "    while c < n:\n",
    "        a = b\n",
    "        b = c\n",
    "        c = a + b\n",
    "        print(b, end = ' ')"
   ]
  },
  {
   "cell_type": "code",
   "execution_count": 19,
   "metadata": {},
   "outputs": [
    {
     "name": "stdout",
     "output_type": "stream",
     "text": [
      "1 1 2 3 5 8 "
     ]
    }
   ],
   "source": [
    "fibonnaci(12)"
   ]
  },
  {
   "cell_type": "code",
   "execution_count": 20,
   "metadata": {},
   "outputs": [
    {
     "name": "stdout",
     "output_type": "stream",
     "text": [
      "1 1 2 3 5 8 13 21 "
     ]
    }
   ],
   "source": [
    "fibonnaci(25)"
   ]
  },
  {
   "cell_type": "markdown",
   "metadata": {},
   "source": [
    "# (5) break and continue statements"
   ]
  },
  {
   "cell_type": "code",
   "execution_count": null,
   "metadata": {},
   "outputs": [],
   "source": [
    "'''\n",
    "    Write a function r_pixels() that takes:\n",
    "    a two-dimensional list of nonnegative integer entries (representing the values of pixels of an image) \n",
    "    and prints a two-dimensional list of numbers. But, if there is 0 in the list, numbers after 0 will not be printed\n",
    "    \n",
    ">>> r_pixels([[1, 0, 5, 7, 10], [2, 3, 5, 7], [11, 3, 0, 7]])\n",
    "1,\n",
    "2, 3, 5, 7,\n",
    "11, 3,\n",
    "\n",
    "'''"
   ]
  },
  {
   "cell_type": "code",
   "execution_count": 21,
   "metadata": {},
   "outputs": [],
   "source": [
    "def r_pixels(lst):\n",
    "    for m in lst:\n",
    "        for n in m:\n",
    "            if n == 0:\n",
    "                break\n",
    "            print(n, end = ', ')\n",
    "        print()"
   ]
  },
  {
   "cell_type": "code",
   "execution_count": 22,
   "metadata": {},
   "outputs": [
    {
     "name": "stdout",
     "output_type": "stream",
     "text": [
      "1, \n",
      "2, 3, 5, 7, \n",
      "11, 3, \n"
     ]
    }
   ],
   "source": [
    "r_pixels([[1, 0, 5, 7, 10], [2, 3, 5, 7], [11, 3, 0, 7]])"
   ]
  },
  {
   "cell_type": "markdown",
   "metadata": {},
   "source": [
    "# (6) Others"
   ]
  },
  {
   "cell_type": "code",
   "execution_count": null,
   "metadata": {},
   "outputs": [],
   "source": [
    "'''\n",
    "    Write a function evensum() that takes:\n",
    "    a two-dimensional list of integers \n",
    "    and returns True if every row of the table sums up to an even number \n",
    "    and False otherwise (i.e., if any row sums up to an odd number)\n",
    "\n",
    ">>> evensum([[2, 4], [3, 5, 2], [2, 9, 1]])\n",
    "True\n",
    ">>> evensum([[1, 5, 4], [3, 5, 1], [2, 9, 1]])\n",
    "False\n",
    "\n",
    "'''"
   ]
  },
  {
   "cell_type": "code",
   "execution_count": 1,
   "metadata": {},
   "outputs": [],
   "source": [
    "def evensum(lst):\n",
    "    for m in lst:\n",
    "        if sum(m)%2 == 1:\n",
    "            return False\n",
    "    return True"
   ]
  },
  {
   "cell_type": "code",
   "execution_count": 2,
   "metadata": {},
   "outputs": [
    {
     "data": {
      "text/plain": [
       "True"
      ]
     },
     "execution_count": 2,
     "metadata": {},
     "output_type": "execute_result"
    }
   ],
   "source": [
    "evensum([[2, 4], [3, 5, 2], [2, 9, 1]])"
   ]
  },
  {
   "cell_type": "code",
   "execution_count": 3,
   "metadata": {},
   "outputs": [
    {
     "data": {
      "text/plain": [
       "False"
      ]
     },
     "execution_count": 3,
     "metadata": {},
     "output_type": "execute_result"
    }
   ],
   "source": [
    "evensum([[1, 5, 4], [3, 5, 1], [2, 9, 1]])"
   ]
  },
  {
   "cell_type": "code",
   "execution_count": 8,
   "metadata": {},
   "outputs": [],
   "source": [
    "# another solution for Q9\n",
    "\n",
    "def evensum(lst):\n",
    "    for m in lst:\n",
    "        res = 0\n",
    "        for n in m:\n",
    "            res += n\n",
    "        if res%2 == 1:\n",
    "            return False\n",
    "    return True"
   ]
  },
  {
   "cell_type": "code",
   "execution_count": 9,
   "metadata": {},
   "outputs": [
    {
     "data": {
      "text/plain": [
       "True"
      ]
     },
     "execution_count": 9,
     "metadata": {},
     "output_type": "execute_result"
    }
   ],
   "source": [
    "evensum([[2, 4], [3, 5, 2], [2, 9, 1]])"
   ]
  },
  {
   "cell_type": "code",
   "execution_count": 10,
   "metadata": {},
   "outputs": [
    {
     "data": {
      "text/plain": [
       "False"
      ]
     },
     "execution_count": 10,
     "metadata": {},
     "output_type": "execute_result"
    }
   ],
   "source": [
    "evensum([[1, 5, 4], [3, 5, 1], [2, 9, 1]])"
   ]
  },
  {
   "cell_type": "code",
   "execution_count": null,
   "metadata": {},
   "outputs": [],
   "source": [
    "'''\n",
    "     Write function lst_prime() that:\n",
    "takes a bound as an input, which is positive integer\n",
    "returns a list of prime numbers smaller than or equal to the bound\n",
    "\n",
    ">>> lst_prime(0)\n",
    "[]\n",
    ">>> lst_prime(6)\n",
    "[2, 3, 5]\n",
    ">>> lst_prime(11)\n",
    "[2, 3, 5, 7, 11]\n",
    "\n",
    "'''"
   ]
  },
  {
   "cell_type": "code",
   "execution_count": 5,
   "metadata": {},
   "outputs": [],
   "source": [
    "def lst_prime(b):\n",
    "    def is_prime(n):\n",
    "        for i in range(2, n):\n",
    "            if n%i == 0:\n",
    "                return False\n",
    "        return True\n",
    "    lst = []\n",
    "    for i in range(2, b+1):\n",
    "        if is_prime(i) == True:\n",
    "            lst.append(i)\n",
    "    return lst"
   ]
  },
  {
   "cell_type": "code",
   "execution_count": 6,
   "metadata": {},
   "outputs": [
    {
     "data": {
      "text/plain": [
       "[]"
      ]
     },
     "execution_count": 6,
     "metadata": {},
     "output_type": "execute_result"
    }
   ],
   "source": [
    "lst_prime(0)"
   ]
  },
  {
   "cell_type": "code",
   "execution_count": 7,
   "metadata": {},
   "outputs": [
    {
     "data": {
      "text/plain": [
       "[2, 3, 5]"
      ]
     },
     "execution_count": 7,
     "metadata": {},
     "output_type": "execute_result"
    }
   ],
   "source": [
    "lst_prime(6)"
   ]
  },
  {
   "cell_type": "code",
   "execution_count": 8,
   "metadata": {},
   "outputs": [
    {
     "data": {
      "text/plain": [
       "[2, 3, 5, 7, 11]"
      ]
     },
     "execution_count": 8,
     "metadata": {},
     "output_type": "execute_result"
    }
   ],
   "source": [
    "lst_prime(11)"
   ]
  },
  {
   "cell_type": "code",
   "execution_count": null,
   "metadata": {},
   "outputs": [],
   "source": []
  }
 ],
 "metadata": {
  "anaconda-cloud": {},
  "kernelspec": {
   "display_name": "Python 3 (ipykernel)",
   "language": "python",
   "name": "python3"
  },
  "language_info": {
   "codemirror_mode": {
    "name": "ipython",
    "version": 3
   },
   "file_extension": ".py",
   "mimetype": "text/x-python",
   "name": "python",
   "nbconvert_exporter": "python",
   "pygments_lexer": "ipython3",
   "version": "3.9.12"
  }
 },
 "nbformat": 4,
 "nbformat_minor": 4
}
