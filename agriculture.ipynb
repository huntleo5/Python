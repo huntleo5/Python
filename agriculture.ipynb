{
 "cells": [
  {
   "cell_type": "markdown",
   "id": "65dce261-e1cc-4d58-ba36-162b93e55fe5",
   "metadata": {},
   "source": [
    "# Abstract Model"
   ]
  },
  {
   "cell_type": "code",
   "execution_count": null,
   "id": "1c6d813c-a1fb-4b52-b850-3bfb92e6bffa",
   "metadata": {},
   "outputs": [],
   "source": [
    "import pyomo.environ as pyo"
   ]
  },
  {
   "cell_type": "code",
   "execution_count": 2,
   "id": "4bab16f2",
   "metadata": {},
   "outputs": [],
   "source": [
    "model = pyo.AbstractModel()"
   ]
  },
  {
   "cell_type": "code",
   "execution_count": 3,
   "id": "c7c05955",
   "metadata": {},
   "outputs": [],
   "source": [
    "# Build the index set\n",
    "model.Crop = pyo.Set()"
   ]
  },
  {
   "cell_type": "code",
   "execution_count": 4,
   "id": "3e9c9856",
   "metadata": {},
   "outputs": [],
   "source": [
    "# Build parameters\n",
    "model.w_labor = pyo.Param(model.Crop,within=pyo.NonNegativeReals)\n",
    "model.w_capital = pyo.Param(model.Crop,within=pyo.NonNegativeReals)\n",
    "model.profit = pyo.Param(model.Crop,within=pyo.NonNegativeReals)\n",
    "model.avail_land = pyo.Param(within=pyo.NonNegativeReals)\n",
    "model.avail_labor = pyo.Param(within=pyo.NonNegativeReals)\n",
    "model.avail_capital = pyo.Param(within=pyo.NonNegativeReals)"
   ]
  },
  {
   "cell_type": "code",
   "execution_count": 5,
   "id": "78b2cbaf",
   "metadata": {},
   "outputs": [],
   "source": [
    "model.x = pyo.Var(model.Crop, within=pyo.NonNegativeReals) "
   ]
  },
  {
   "cell_type": "code",
   "execution_count": 6,
   "id": "92c4ef1b",
   "metadata": {},
   "outputs": [],
   "source": [
    "# Define the Objective Function\n",
    "def obj_value_rule(model):\n",
    "    return sum(model.profit[i]*model.x[i] for i in model.Crop)\n",
    "\n",
    "model.obj = pyo.Objective(rule=obj_value_rule, sense = pyo.maximize)"
   ]
  },
  {
   "cell_type": "code",
   "execution_count": 7,
   "id": "c1ee2f33-2d73-4a62-9fd0-ae3cf2e93dc5",
   "metadata": {},
   "outputs": [],
   "source": [
    "# Land Constraint\n",
    "def land_rule(model):\n",
    "    return sum(1*model.x[i] for i in model.Crop)<= model.avail_land\n",
    "\n",
    "model.land = pyo.Constraint(rule=land_rule)"
   ]
  },
  {
   "cell_type": "code",
   "execution_count": 8,
   "id": "3afa4267",
   "metadata": {},
   "outputs": [],
   "source": [
    "# Labor Constraint\n",
    "def labor_rule(model):\n",
    "    return sum(model.w_labor[i]*model.x[i] for i in model.Crop) <= model.avail_labor\n",
    "\n",
    "model.labor = pyo.Constraint(rule=labor_rule)"
   ]
  },
  {
   "cell_type": "code",
   "execution_count": 9,
   "id": "be20796d",
   "metadata": {},
   "outputs": [],
   "source": [
    "# Capital Constraint\n",
    "def capital_rule(model):\n",
    "    return sum(model.w_capital[i]*model.x[i] for i in model.Crop) <= model.avail_capital\n",
    "\n",
    "model.capital = pyo.Constraint(rule=capital_rule)"
   ]
  },
  {
   "cell_type": "code",
   "execution_count": 10,
   "id": "18e3a20f",
   "metadata": {},
   "outputs": [],
   "source": [
    "# Load data\n",
    "instance = model.create_instance('agriculture.dat')"
   ]
  },
  {
   "cell_type": "code",
   "execution_count": 11,
   "id": "35b7c2e1",
   "metadata": {},
   "outputs": [
    {
     "data": {
      "text/plain": [
       "{'Problem': [{'Name': 'unknown', 'Lower bound': 360.0, 'Upper bound': 360.0, 'Number of objectives': 1, 'Number of constraints': 4, 'Number of variables': 4, 'Number of nonzeros': 10, 'Sense': 'maximize'}], 'Solver': [{'Status': 'ok', 'Termination condition': 'optimal', 'Statistics': {'Branch and bound': {'Number of bounded subproblems': 0, 'Number of created subproblems': 0}}, 'Error rc': 0, 'Time': 0.03887128829956055}], 'Solution': [OrderedDict([('number of solutions', 0), ('number of solutions displayed', 0)])]}"
      ]
     },
     "execution_count": 11,
     "metadata": {},
     "output_type": "execute_result"
    }
   ],
   "source": [
    "# Solve the model through the GLPK solver\n",
    "solver = pyo.SolverFactory('glpk')\n",
    "solver.solve(instance)"
   ]
  },
  {
   "cell_type": "code",
   "execution_count": 12,
   "id": "9533534c",
   "metadata": {},
   "outputs": [
    {
     "name": "stdout",
     "output_type": "stream",
     "text": [
      "Model unknown\n",
      "\n",
      "  Variables:\n",
      "    x : Size=3, Index=Crop\n",
      "        Key      : Lower : Value : Upper : Fixed : Stale : Domain\n",
      "            Corn :     0 :   6.0 :  None : False : False : NonNegativeReals\n",
      "            Oats :     0 :   6.0 :  None : False : False : NonNegativeReals\n",
      "        Soybeans :     0 :   0.0 :  None : False : False : NonNegativeReals\n",
      "\n",
      "  Objectives:\n",
      "    obj : Size=1, Index=None, Active=True\n",
      "        Key  : Active : Value\n",
      "        None :   True : 360.0\n",
      "\n",
      "  Constraints:\n",
      "    land : Size=1\n",
      "        Key  : Lower : Body : Upper\n",
      "        None :  None : 12.0 :  12.0\n",
      "    labor : Size=1\n",
      "        Key  : Lower : Body : Upper\n",
      "        None :  None : 48.0 :  48.0\n",
      "    capital : Size=1\n",
      "        Key  : Lower : Body  : Upper\n",
      "        None :  None : 324.0 : 360.0\n",
      "\n",
      "Optimal objective value:  360.0\n"
     ]
    }
   ],
   "source": [
    "# Print the results\n",
    "instance.display()\n",
    "print()\n",
    "print('Optimal objective value: ', pyo.value(instance.obj))"
   ]
  },
  {
   "cell_type": "code",
   "execution_count": 13,
   "id": "af87451d",
   "metadata": {},
   "outputs": [
    {
     "name": "stdout",
     "output_type": "stream",
     "text": [
      "Optimal solution:\n",
      "Crop: Corn Amount produced: 6.0\n",
      "Crop: Soybeans Amount produced: 0.0\n",
      "Crop: Oats Amount produced: 6.0\n"
     ]
    }
   ],
   "source": [
    "# Print the optimal solution\n",
    "print(\"Optimal solution:\")\n",
    "for crop in instance.Crop:\n",
    "    print(\"Crop:\", crop, \"Amount produced:\", instance.x[crop].value)"
   ]
  },
  {
   "cell_type": "code",
   "execution_count": 14,
   "id": "457d658d",
   "metadata": {},
   "outputs": [
    {
     "name": "stdout",
     "output_type": "stream",
     "text": [
      "Optimal solution:\n",
      "\n",
      "Crop: Corn Amount produced: 6.0 acres\n",
      "Crop: Soybeans Amount produced: 0.0 acres\n",
      "Crop: Oats Amount produced: 6.0 acres\n",
      "\n",
      "The Optimal Value is $ 360.0\n"
     ]
    }
   ],
   "source": [
    "#Final Answer to Task 1\n",
    "optimal_solution = print(\"Optimal solution:\")\n",
    "print()\n",
    "for crop in instance.Crop:\n",
    "    print(\"Crop:\", crop, \"Amount produced:\", instance.x[crop].value, \"acres\")\n",
    "optimal_value = pyo.value(instance.obj)\n",
    "\n",
    "print() \n",
    "print(\"The Optimal Value is $\", optimal_value)"
   ]
  },
  {
   "cell_type": "markdown",
   "id": "0c22cf21-717b-4eba-8dd3-c4e834ea3a99",
   "metadata": {},
   "source": [
    "# Concrete Dual Model"
   ]
  },
  {
   "cell_type": "code",
   "execution_count": 15,
   "id": "4185d4a0-c2d8-4264-a797-ac288efb53a7",
   "metadata": {},
   "outputs": [],
   "source": [
    "import pyomo.environ as pyo"
   ]
  },
  {
   "cell_type": "code",
   "execution_count": 16,
   "id": "6f360c36-f915-4437-b18d-7e4271224a98",
   "metadata": {},
   "outputs": [],
   "source": [
    "# Define the index set\n",
    "Crops = {'Corn','Soybeans','Oats'}"
   ]
  },
  {
   "cell_type": "code",
   "execution_count": 17,
   "id": "708dce06-e4f6-4499-982d-3856bca8d080",
   "metadata": {},
   "outputs": [],
   "source": [
    "# Data\n",
    "w_land = {'Corn':1, 'Soybeans':1, 'Oats':1}\n",
    "w_labor = {'Corn':6, 'Soybeans':6, 'Oats':2}\n",
    "w_capital = {'Corn':36, 'Soybeans':24, 'Oats':18}\n",
    "profit = {'Corn':40, 'Soybeans':30, 'Oats':20}\n",
    "avail_land = 12\n",
    "avail_labor = 48\n",
    "avail_capital = 360"
   ]
  },
  {
   "cell_type": "code",
   "execution_count": 18,
   "id": "af57cab0-fa83-4acd-b9d1-2f7c67e8dee1",
   "metadata": {},
   "outputs": [],
   "source": [
    "# Create a Concrete model\n",
    "model = pyo.ConcreteModel()"
   ]
  },
  {
   "cell_type": "code",
   "execution_count": 19,
   "id": "59811d8a-9e4a-40c8-b9cd-c405735802bb",
   "metadata": {},
   "outputs": [],
   "source": [
    "#Build the Dual Decision Variables\n",
    "model.pi = pyo.Var({1,2,3}) "
   ]
  },
  {
   "cell_type": "code",
   "execution_count": 20,
   "id": "a59de88c-ceb9-442a-b37c-34ec728b4b5c",
   "metadata": {},
   "outputs": [],
   "source": [
    "#Build the Dual Objective Function\n",
    "model.obj = pyo.Objective(expr = 12*model.pi[1]+48*model.pi[2] + 360*model.pi[3], sense = pyo.minimize)"
   ]
  },
  {
   "cell_type": "code",
   "execution_count": 21,
   "id": "acda41a3-fe86-463f-9673-f0f280668614",
   "metadata": {},
   "outputs": [],
   "source": [
    "#Define the Dual Constraints\n",
    "\n",
    "model.con1 = pyo.Constraint(expr = model.pi[1]+6*model.pi[2] + 36*model.pi[3]  >= 40)\n",
    "model.con2 = pyo.Constraint(expr = 2*model.pi[1]+6*model.pi[2] + 24*model.pi[3] >= 30)\n",
    "model.con3 = pyo.Constraint(expr = model.pi[1] + 2*model.pi[2] + 18*model.pi[3] >= 20)\n",
    "model.con4 = pyo.Constraint(expr = model.pi[1] >= 0)\n",
    "model.con5 = pyo.Constraint(expr = model.pi[2] >= 0)\n",
    "model.con6 = pyo.Constraint(expr = model.pi[3] >= 0)"
   ]
  },
  {
   "cell_type": "code",
   "execution_count": 22,
   "id": "0b803cd2-26b5-419f-9e3b-af91180e50d5",
   "metadata": {},
   "outputs": [
    {
     "data": {
      "text/plain": [
       "{'Problem': [{'Name': 'unknown', 'Lower bound': 360.0, 'Upper bound': 360.0, 'Number of objectives': 1, 'Number of constraints': 7, 'Number of variables': 4, 'Number of nonzeros': 13, 'Sense': 'minimize'}], 'Solver': [{'Status': 'ok', 'Termination condition': 'optimal', 'Statistics': {'Branch and bound': {'Number of bounded subproblems': 0, 'Number of created subproblems': 0}}, 'Error rc': 0, 'Time': 0.0340578556060791}], 'Solution': [OrderedDict([('number of solutions', 0), ('number of solutions displayed', 0)])]}"
      ]
     },
     "execution_count": 22,
     "metadata": {},
     "output_type": "execute_result"
    }
   ],
   "source": [
    "# Solve the model through the GLPK solver\n",
    "solver = pyo.SolverFactory('glpk')\n",
    "solver.solve(model)"
   ]
  },
  {
   "cell_type": "code",
   "execution_count": 23,
   "id": "140a065c-08c7-4032-9393-96a7909df87a",
   "metadata": {},
   "outputs": [
    {
     "name": "stdout",
     "output_type": "stream",
     "text": [
      "\n",
      "1 Set Declarations\n",
      "    pi_index : Size=1, Index=None, Ordered=False\n",
      "        Key  : Dimen : Domain : Size : Members\n",
      "        None :     1 :    Any :    3 : {1, 2, 3}\n",
      "\n",
      "1 Var Declarations\n",
      "    pi : Size=3, Index=pi_index\n",
      "        Key : Lower : Value : Upper : Fixed : Stale : Domain\n",
      "          1 :  None :  10.0 :  None : False : False :  Reals\n",
      "          2 :  None :   5.0 :  None : False : False :  Reals\n",
      "          3 :  None :   0.0 :  None : False : False :  Reals\n",
      "\n",
      "1 Objective Declarations\n",
      "    obj : Size=1, Index=None, Active=True\n",
      "        Key  : Active : Sense    : Expression\n",
      "        None :   True : minimize : 12*pi[1] + 48*pi[2] + 360*pi[3]\n",
      "\n",
      "6 Constraint Declarations\n",
      "    con1 : Size=1, Index=None, Active=True\n",
      "        Key  : Lower : Body                       : Upper : Active\n",
      "        None :  40.0 : pi[1] + 6*pi[2] + 36*pi[3] :  +Inf :   True\n",
      "    con2 : Size=1, Index=None, Active=True\n",
      "        Key  : Lower : Body                         : Upper : Active\n",
      "        None :  30.0 : 2*pi[1] + 6*pi[2] + 24*pi[3] :  +Inf :   True\n",
      "    con3 : Size=1, Index=None, Active=True\n",
      "        Key  : Lower : Body                       : Upper : Active\n",
      "        None :  20.0 : pi[1] + 2*pi[2] + 18*pi[3] :  +Inf :   True\n",
      "    con4 : Size=1, Index=None, Active=True\n",
      "        Key  : Lower : Body  : Upper : Active\n",
      "        None :   0.0 : pi[1] :  +Inf :   True\n",
      "    con5 : Size=1, Index=None, Active=True\n",
      "        Key  : Lower : Body  : Upper : Active\n",
      "        None :   0.0 : pi[2] :  +Inf :   True\n",
      "    con6 : Size=1, Index=None, Active=True\n",
      "        Key  : Lower : Body  : Upper : Active\n",
      "        None :   0.0 : pi[3] :  +Inf :   True\n",
      "\n",
      "9 Declarations: pi_index pi obj con1 con2 con3 con4 con5 con6\n"
     ]
    }
   ],
   "source": [
    "#Print the Model\n",
    "print()\n",
    "model.pprint()"
   ]
  },
  {
   "cell_type": "code",
   "execution_count": 24,
   "id": "96ec81d7-10fa-45ab-8585-2e2bd108ec20",
   "metadata": {},
   "outputs": [
    {
     "name": "stdout",
     "output_type": "stream",
     "text": [
      "\n",
      "Model unknown\n",
      "\n",
      "  Variables:\n",
      "    pi : Size=3, Index=pi_index\n",
      "        Key : Lower : Value : Upper : Fixed : Stale : Domain\n",
      "          1 :  None :  10.0 :  None : False : False :  Reals\n",
      "          2 :  None :   5.0 :  None : False : False :  Reals\n",
      "          3 :  None :   0.0 :  None : False : False :  Reals\n",
      "\n",
      "  Objectives:\n",
      "    obj : Size=1, Index=None, Active=True\n",
      "        Key  : Active : Value\n",
      "        None :   True : 360.0\n",
      "\n",
      "  Constraints:\n",
      "    con1 : Size=1\n",
      "        Key  : Lower : Body : Upper\n",
      "        None :  40.0 : 40.0 :  None\n",
      "    con2 : Size=1\n",
      "        Key  : Lower : Body : Upper\n",
      "        None :  30.0 : 50.0 :  None\n",
      "    con3 : Size=1\n",
      "        Key  : Lower : Body : Upper\n",
      "        None :  20.0 : 20.0 :  None\n",
      "    con4 : Size=1\n",
      "        Key  : Lower : Body : Upper\n",
      "        None :   0.0 : 10.0 :  None\n",
      "    con5 : Size=1\n",
      "        Key  : Lower : Body : Upper\n",
      "        None :   0.0 :  5.0 :  None\n",
      "    con6 : Size=1\n",
      "        Key  : Lower : Body : Upper\n",
      "        None :   0.0 :  0.0 :  None\n",
      "\n",
      "Optimal value:  360.0\n"
     ]
    }
   ],
   "source": [
    "# Print the optimzation results\n",
    "print()\n",
    "model.display()  # List of all optimization results\n",
    "print()\n",
    "print('Optimal value: ', pyo.value(model.obj))  # Print the value of model.obj (i.e., optimal objective value)"
   ]
  },
  {
   "cell_type": "code",
   "execution_count": 25,
   "id": "69413ec1-b707-43fb-ba67-8ca87ad58d35",
   "metadata": {},
   "outputs": [
    {
     "name": "stdout",
     "output_type": "stream",
     "text": [
      "Optimal Solution:\n",
      "pi1 = 10.0\n",
      "pi2 = 5.0\n",
      "pi3 = 0.0\n",
      "The Optimal Solution to the Dual Problem is (10.0, 5.0, 0.0)\n",
      "Optimal Value of the Dual Problem = 360.0\n"
     ]
    }
   ],
   "source": [
    "# Print the optimal solution and optimal value\n",
    "print(f\"Optimal Solution:\")\n",
    "print(f\"pi1 = {pyo.value(model.pi[1])}\")\n",
    "print(f\"pi2 = {pyo.value(model.pi[2])}\")\n",
    "print(f\"pi3 = {pyo.value(model.pi[3])}\")\n",
    "print(f\"The Optimal Solution to the Dual Problem is ({pyo.value(model.pi[1])}, {pyo.value(model.pi[2])}, {pyo.value(model.pi[3])})\")\n",
    "print(f\"Optimal Value of the Dual Problem = {pyo.value(model.obj)}\")"
   ]
  },
  {
   "cell_type": "code",
   "execution_count": null,
   "id": "43254977-c271-47b3-b7c6-9dbbe7ec8a6d",
   "metadata": {},
   "outputs": [],
   "source": []
  }
 ],
 "metadata": {
  "kernelspec": {
   "display_name": "Python 3 (ipykernel)",
   "language": "python",
   "name": "python3"
  },
  "language_info": {
   "codemirror_mode": {
    "name": "ipython",
    "version": 3
   },
   "file_extension": ".py",
   "mimetype": "text/x-python",
   "name": "python",
   "nbconvert_exporter": "python",
   "pygments_lexer": "ipython3",
   "version": "3.9.12"
  }
 },
 "nbformat": 4,
 "nbformat_minor": 5
}
