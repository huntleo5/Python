{
 "cells": [
  {
   "cell_type": "markdown",
   "metadata": {},
   "source": [
    "# (1) User-defined function"
   ]
  },
  {
   "cell_type": "code",
   "execution_count": null,
   "metadata": {},
   "outputs": [],
   "source": [
    "'''\n",
    "Write a function area() that:\n",
    "\n",
    "takes a radius of a disk as input\n",
    "returns the area of the disk\n",
    "\n",
    "\n",
    ">>> area(10)\n",
    "314.1592653589793\n",
    "\n",
    ">>> area(100)\n",
    "31415.92653589793\n",
    "'''"
   ]
  },
  {
   "cell_type": "code",
   "execution_count": 1,
   "metadata": {},
   "outputs": [],
   "source": [
    "def area(r):\n",
    "    import math\n",
    "    return math.pi * r ** 2"
   ]
  },
  {
   "cell_type": "code",
   "execution_count": 2,
   "metadata": {},
   "outputs": [
    {
     "data": {
      "text/plain": [
       "314.1592653589793"
      ]
     },
     "execution_count": 2,
     "metadata": {},
     "output_type": "execute_result"
    }
   ],
   "source": [
    "area(10)"
   ]
  },
  {
   "cell_type": "code",
   "execution_count": 3,
   "metadata": {},
   "outputs": [
    {
     "data": {
      "text/plain": [
       "31415.926535897932"
      ]
     },
     "execution_count": 3,
     "metadata": {},
     "output_type": "execute_result"
    }
   ],
   "source": [
    "area(100)"
   ]
  },
  {
   "cell_type": "code",
   "execution_count": 4,
   "metadata": {},
   "outputs": [
    {
     "data": {
      "text/plain": [
       "\"\\nWrite a function battle() that:\\n\\ntakes three numbers as input\\n\\nThe first number represents health\\nThe second number represents shield\\nThe third number represents damage\\n\\nif damage is greater than or equal to the sum of health and shield, prints \\n\\nSorry... You're dead...\\nGoodbye...\\n\\nif damage is smaller than the sum of health and shield, prints\\n\\nCongratulation! You're survived!\\nGoodbye!\\n\\n\\n>>> battle(100, 50, 150)\\nSorry... You're dead...\\nGoodbye...\\n\\n>>> battle(100, 50, 100)\\nCongratulation! You survived!\\nGoodbye!\\n\\n\""
      ]
     },
     "execution_count": 4,
     "metadata": {},
     "output_type": "execute_result"
    }
   ],
   "source": [
    "'''\n",
    "Write a function battle() that:\n",
    "\n",
    "takes three numbers as input\n",
    "\n",
    "The first number represents health\n",
    "The second number represents shield\n",
    "The third number represents damage\n",
    "\n",
    "if damage is greater than or equal to the sum of health and shield, prints \n",
    "\n",
    "Sorry... You're dead...\n",
    "Goodbye...\n",
    "\n",
    "if damage is smaller than the sum of health and shield, prints\n",
    "\n",
    "Congratulation! You're survived!\n",
    "Goodbye!\n",
    "\n",
    "\n",
    ">>> battle(100, 50, 150)\n",
    "Sorry... You're dead...\n",
    "Goodbye...\n",
    "\n",
    ">>> battle(100, 50, 100)\n",
    "Congratulation! You survived!\n",
    "Goodbye!\n",
    "\n",
    "'''"
   ]
  },
  {
   "cell_type": "code",
   "execution_count": 5,
   "metadata": {},
   "outputs": [],
   "source": [
    "def battle(health, shield, damage):\n",
    "    if damage >= health + shield:\n",
    "        print(\"Sorry... You're dead...\")\n",
    "        print('Goodbye...')\n",
    "    else:\n",
    "        print(\"Congratulation! You survived!\")\n",
    "        print('Goodbye!')"
   ]
  },
  {
   "cell_type": "code",
   "execution_count": 6,
   "metadata": {},
   "outputs": [
    {
     "name": "stdout",
     "output_type": "stream",
     "text": [
      "Sorry... You're dead...\n",
      "Goodbye...\n"
     ]
    }
   ],
   "source": [
    "battle(100, 50, 150)"
   ]
  },
  {
   "cell_type": "code",
   "execution_count": 7,
   "metadata": {},
   "outputs": [
    {
     "name": "stdout",
     "output_type": "stream",
     "text": [
      "Congratulation! You survived!\n",
      "Goodbye!\n"
     ]
    }
   ],
   "source": [
    "battle(100, 50, 100)"
   ]
  },
  {
   "cell_type": "markdown",
   "metadata": {},
   "source": [
    "# (2) General Formatting"
   ]
  },
  {
   "cell_type": "code",
   "execution_count": 2,
   "metadata": {},
   "outputs": [
    {
     "name": "stdout",
     "output_type": "stream",
     "text": [
      "http://www.main.com/smith/index.html\n"
     ]
    }
   ],
   "source": [
    "# String link describes the url of a webpage\n",
    "\n",
    "link = 'http://www.main.com/smith/index.html'\n",
    "print(link)"
   ]
  },
  {
   "cell_type": "code",
   "execution_count": null,
   "metadata": {},
   "outputs": [],
   "source": [
    "'''\n",
    "Please print out a following message using link variable\n",
    "\n",
    "\n",
    ">>> \n",
    "www.main.com + index.html\n",
    "\n",
    "'''"
   ]
  },
  {
   "cell_type": "code",
   "execution_count": 4,
   "metadata": {},
   "outputs": [
    {
     "name": "stdout",
     "output_type": "stream",
     "text": [
      "www.main.com + index.html\n"
     ]
    }
   ],
   "source": [
    "a = link[link.index('www.main.com'):link.index('www.main.com')+len('www.main.com')]\n",
    "b = link[link.index('index.html'):link.index('index.html')+len('index.html')]\n",
    "print('{} + {}'.format(a,b))"
   ]
  },
  {
   "cell_type": "code",
   "execution_count": 6,
   "metadata": {},
   "outputs": [
    {
     "name": "stdout",
     "output_type": "stream",
     "text": [
      "ww.main.com + index.html\n"
     ]
    }
   ],
   "source": [
    "x = link[8:19]\n",
    "y = link[-10:]\n",
    "print('{} + {}'.format(x, y))"
   ]
  },
  {
   "cell_type": "code",
   "execution_count": 9,
   "metadata": {},
   "outputs": [
    {
     "data": {
      "text/plain": [
       "'tp://www.main.com/s'"
      ]
     },
     "execution_count": 9,
     "metadata": {},
     "output_type": "execute_result"
    }
   ],
   "source": [
    "link[2:21]"
   ]
  },
  {
   "cell_type": "markdown",
   "metadata": {},
   "source": [
    "# (3) Read and Write a Text File"
   ]
  },
  {
   "cell_type": "code",
   "execution_count": null,
   "metadata": {},
   "outputs": [],
   "source": [
    "'''\n",
    "    Open \"last.txt\" file with read-only file mode\n",
    "    Please find the number of lines in the file ans assign it to \"ans4\" variable\n",
    "    \n",
    "'''"
   ]
  },
  {
   "cell_type": "code",
   "execution_count": 12,
   "metadata": {},
   "outputs": [
    {
     "data": {
      "text/plain": [
       "1001"
      ]
     },
     "execution_count": 12,
     "metadata": {},
     "output_type": "execute_result"
    }
   ],
   "source": [
    "infile = open('last.txt')\n",
    "contents = infile.readlines()\n",
    "infile.close()\n",
    "ans4 = len(contents)\n",
    "ans4"
   ]
  },
  {
   "cell_type": "code",
   "execution_count": null,
   "metadata": {},
   "outputs": [],
   "source": [
    "'''\n",
    "    Open \"last.txt\" file with read-only file mode\n",
    "    Please find the number of words in the file ans assign it to \"ans5\" variable\n",
    "    \n",
    "'''"
   ]
  },
  {
   "cell_type": "code",
   "execution_count": 14,
   "metadata": {},
   "outputs": [
    {
     "data": {
      "text/plain": [
       "2002"
      ]
     },
     "execution_count": 14,
     "metadata": {},
     "output_type": "execute_result"
    }
   ],
   "source": [
    "infile = open('last.txt')\n",
    "contents = infile.read().split()\n",
    "infile.close()\n",
    "ans5 = len(contents)\n",
    "ans5"
   ]
  },
  {
   "cell_type": "code",
   "execution_count": null,
   "metadata": {},
   "outputs": [],
   "source": [
    "'''\n",
    "    Open \"last.txt\" file with read-only file mode\n",
    "    Count the last names ending with \"E\" and assign it to \"ans6\" variable\n",
    "\n",
    "'''"
   ]
  },
  {
   "cell_type": "code",
   "execution_count": 16,
   "metadata": {},
   "outputs": [
    {
     "data": {
      "text/plain": [
       "81"
      ]
     },
     "execution_count": 16,
     "metadata": {},
     "output_type": "execute_result"
    }
   ],
   "source": [
    "infile = open('last.txt')\n",
    "contents = infile.read().split()\n",
    "infile.close()\n",
    "lst = []\n",
    "for i in contents:\n",
    "    if i[-1] == 'E':\n",
    "        lst.append(i)\n",
    "ans6 = len(lst)\n",
    "ans6 "
   ]
  },
  {
   "cell_type": "code",
   "execution_count": null,
   "metadata": {},
   "outputs": [],
   "source": [
    "'''\n",
    "    Open \"last.txt\" file with read-only file mode\n",
    "    Count the numbers larger than 0.1 assign it to \"ans7\" variable\n",
    "\n",
    "'''"
   ]
  },
  {
   "cell_type": "code",
   "execution_count": 19,
   "metadata": {},
   "outputs": [
    {
     "data": {
      "text/plain": [
       "64"
      ]
     },
     "execution_count": 19,
     "metadata": {},
     "output_type": "execute_result"
    }
   ],
   "source": [
    "infile = open('last.txt')\n",
    "contents = infile.read().split()\n",
    "infile.close()\n",
    "lst = []\n",
    "for i in contents:\n",
    "    if '.' in i:\n",
    "        if float(i) > 0.1:\n",
    "            lst.append(i)\n",
    "ans7 = len(lst)\n",
    "ans7"
   ]
  },
  {
   "cell_type": "code",
   "execution_count": null,
   "metadata": {},
   "outputs": [],
   "source": [
    "'''\n",
    "    Create a new text file \"hw2_answers.txt\" using open() function with write mode\n",
    "    Write your first name, last name in the first line of \"hw2_answers.txt\" file\n",
    "    Write all your answers (i.e. from ans4 to ans7) into the \"hw2_answers.txt\" file\n",
    "    Each answer will take a line with \"answer# = ##\" format.\n",
    "    Write \"Homework 2 is done!!!\" in the last line of \"hw2_answers.txt\" file\n",
    "    Close \"hw2_answers.txt\" file\n",
    "\n",
    "    Your file shoud look like this:\n",
    "    \n",
    "    Kenn Kim\n",
    "    answer4 = ##\n",
    "    answer5 = ##\n",
    "    answer6 = ##\n",
    "    answer7 = ##\n",
    "    Homework 2 is done!!!\n",
    "\n",
    "'''\n",
    "\n"
   ]
  },
  {
   "cell_type": "code",
   "execution_count": 21,
   "metadata": {},
   "outputs": [],
   "source": [
    "outfile = open('hw2_answers.txt', 'w')\n",
    "outfile.write('Hongki Kim\\n')\n",
    "outfile.write('answer4 = {}\\n'.format(ans4))\n",
    "outfile.write('answer5 = {}\\n'.format(ans5))\n",
    "outfile.write('answer6 = {}\\n'.format(ans6))\n",
    "outfile.write('answer7 = {}\\n'.format(ans7))\n",
    "outfile.write('Homework 2 is done!!!\\n')\n",
    "outfile.close()"
   ]
  },
  {
   "cell_type": "markdown",
   "metadata": {},
   "source": [
    "# (4) Multi-way if statement"
   ]
  },
  {
   "cell_type": "code",
   "execution_count": null,
   "metadata": {},
   "outputs": [],
   "source": [
    "'''\n",
    "Write a function grade() that:\n",
    "\n",
    "(1) takes a testing score as input\n",
    "(2) returns the grade by following criteria\n",
    "        A: 90 <= testing score\n",
    "        B: 80 <= testing score < 90\n",
    "        C: 70 <= testing score < 80\n",
    "        D: 60 <= testing score < 70\n",
    "        F: testing score < 60\n",
    "\n",
    "\n",
    ">>> grade(82.52)\n",
    "B\n",
    "\n",
    ">>> grade(90.80)\n",
    "A\n",
    "\n",
    "'''\n",
    "\n"
   ]
  },
  {
   "cell_type": "code",
   "execution_count": 24,
   "metadata": {},
   "outputs": [],
   "source": [
    "def grade(s):\n",
    "    if s >= 90:\n",
    "        return 'A'\n",
    "    elif s >= 80:\n",
    "        return 'B'\n",
    "    elif s >= 70:\n",
    "        return 'C'\n",
    "    elif s >= 60:\n",
    "        return 'D'\n",
    "    else:\n",
    "        return 'F'"
   ]
  },
  {
   "cell_type": "code",
   "execution_count": 25,
   "metadata": {},
   "outputs": [
    {
     "data": {
      "text/plain": [
       "'B'"
      ]
     },
     "execution_count": 25,
     "metadata": {},
     "output_type": "execute_result"
    }
   ],
   "source": [
    "grade(82.52)"
   ]
  },
  {
   "cell_type": "code",
   "execution_count": 26,
   "metadata": {},
   "outputs": [
    {
     "data": {
      "text/plain": [
       "'A'"
      ]
     },
     "execution_count": 26,
     "metadata": {},
     "output_type": "execute_result"
    }
   ],
   "source": [
    "grade(90.80)"
   ]
  },
  {
   "cell_type": "code",
   "execution_count": null,
   "metadata": {},
   "outputs": [],
   "source": [
    "'''\n",
    "Write a function grade2() that:\n",
    "\n",
    "(1) takes a testing score and a number of absence as two inputs\n",
    "(2) finds the grade by following criteria\n",
    "        A: 90 <= testing score\n",
    "        B: 80 <= testing score < 90\n",
    "        C: 70 <= testing score < 80\n",
    "        D: 60 <= testing score < 70\n",
    "        F: testing score < 60\n",
    "        +: a number of absence < 6\n",
    "        -: a number of absence >= 6\n",
    "\n",
    "(3) prints the grade with personalized message:\n",
    "        Your grade is ##\n",
    "\n",
    "\n",
    ">>> grade2(92.55, 5)\n",
    "Your grade is A+\n",
    "\n",
    ">>> grade2(81.15, 7)\n",
    "Your grade is B-\n",
    "\n",
    "'''"
   ]
  },
  {
   "cell_type": "code",
   "execution_count": 35,
   "metadata": {},
   "outputs": [],
   "source": [
    "def grade2(s, a):\n",
    "    if s >= 90:\n",
    "        g_1 = 'A'\n",
    "    elif s >= 80:\n",
    "        g_1 = 'B'\n",
    "    elif s >= 70:\n",
    "        g_1 = 'C'\n",
    "    elif s >= 60:\n",
    "        g_1 = 'D'\n",
    "    else:\n",
    "        g_1 = 'F'\n",
    "    if a < 6:\n",
    "        g_2 = '+'\n",
    "    else:\n",
    "        g_2 = '-'\n",
    "    print('Your grade is {}{}'.format(g_1, g_2))"
   ]
  },
  {
   "cell_type": "code",
   "execution_count": 36,
   "metadata": {},
   "outputs": [
    {
     "name": "stdout",
     "output_type": "stream",
     "text": [
      "Your grade is A+\n"
     ]
    }
   ],
   "source": [
    "grade2(92.55, 5)"
   ]
  },
  {
   "cell_type": "code",
   "execution_count": 37,
   "metadata": {},
   "outputs": [
    {
     "name": "stdout",
     "output_type": "stream",
     "text": [
      "Your grade is B-\n"
     ]
    }
   ],
   "source": [
    "grade2(81.15, 7)"
   ]
  }
 ],
 "metadata": {
  "anaconda-cloud": {},
  "kernelspec": {
   "display_name": "Python 3 (ipykernel)",
   "language": "python",
   "name": "python3"
  },
  "language_info": {
   "codemirror_mode": {
    "name": "ipython",
    "version": 3
   },
   "file_extension": ".py",
   "mimetype": "text/x-python",
   "name": "python",
   "nbconvert_exporter": "python",
   "pygments_lexer": "ipython3",
   "version": "3.9.12"
  }
 },
 "nbformat": 4,
 "nbformat_minor": 4
}
